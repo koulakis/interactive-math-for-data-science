{
 "cells": [
  {
   "cell_type": "markdown",
   "metadata": {},
   "source": [
    "# Linear algebra\n",
    "\n",
    "Author: Marios Koulakis\n",
    "\n",
    "## Part 1: Vectors\n",
    "\n",
    "**Note:** Throughout the text we assume being in finite dimensional spaces over $\\mathbb{R}$ equipped with the Euclidian inner product."
   ]
  },
  {
   "cell_type": "code",
   "execution_count": 1,
   "metadata": {},
   "outputs": [],
   "source": [
    "%run ./utils.py"
   ]
  },
  {
   "cell_type": "code",
   "execution_count": 2,
   "metadata": {},
   "outputs": [],
   "source": [
    "import numpy as np\n",
    "import matplotlib.pyplot as plt\n",
    "\n",
    "from ipywidgets import interactive\n",
    "import ipywidgets as widgets"
   ]
  },
  {
   "cell_type": "markdown",
   "metadata": {},
   "source": [
    "<a id='section1'></a>\n",
    "### Vectors\n",
    "Vectors are arrows which encode magnitute and direction of some entity. Their visualization can be very informative, but they are inpractical when it comes to computations. The main tool to work with vectors is their Cartesian coordinate representation.\n",
    "\n",
    "In terms of programming, they can be represented by arrays of their coordinates, e.g. tuples, lists or numpy arrays.\n",
    "\n",
    "* 2D vector with coordinates x, y in numpy: `np.array([x, y])`"
   ]
  },
  {
   "cell_type": "code",
   "execution_count": 3,
   "metadata": {},
   "outputs": [],
   "source": [
    "def example_2d_vector(x, y):\n",
    "    # Example of simple 2-dimensional vector\n",
    "    vector_2d = np.array([x, y])\n",
    "\n",
    "    # Plot vector\n",
    "    plt.figure(figsize=(6, 6))\n",
    "    vector_arrow = plot_2D_vector(vector_2d)\n",
    "    plt.legend((vector_arrow,), ('2D vector',))\n",
    "    plt.show()"
   ]
  },
  {
   "cell_type": "code",
   "execution_count": 4,
   "metadata": {
    "scrolled": false
   },
   "outputs": [
    {
     "data": {
      "application/vnd.jupyter.widget-view+json": {
       "model_id": "9ab2163f3b444070ab1dc785978ab91b",
       "version_major": 2,
       "version_minor": 0
      },
      "text/plain": [
       "interactive(children=(FloatSlider(value=2.0, description='x', max=10.0, min=-10.0, step=0.3), FloatSlider(valu…"
      ]
     },
     "metadata": {},
     "output_type": "display_data"
    }
   ],
   "source": [
    "interactive(\n",
    "    example_2d_vector, \n",
    "    x=widgets.FloatSlider(min=-10,max=10,step=0.3,value=2),\n",
    "    y=widgets.FloatSlider(min=-10,max=10,step=0.3,value=3))"
   ]
  },
  {
   "cell_type": "markdown",
   "metadata": {},
   "source": [
    "### Main vector operations\n",
    "To fully define a vector space $V$ and be able to define bases, the following two operations are enough:\n",
    "- Addition: $(\\mathbf{v}, \\mathbf{u}) \\mapsto \\mathbf{v} + \\mathbf{u} \\in V$\n",
    "- Scalar multiplication: $(a, \\mathbf{u}) \\mapsto a\\ \\mathbf{v} \\in V$\n",
    "\n",
    "for $\\mathbf{v}, \\mathbf{u} \\in \\mathbf{V}$ and $a \\in \\mathbb{R}$\n",
    "\n",
    "If we equip $V$ with an inner product operation, then we can also define angles between vectors and lenghts. As a result of that, we can define orthonormal bases.  \n",
    "- $(\\mathbf{v}, \\mathbf{u}) \\mapsto \\mathbf{v} \\cdot \\mathbf{u} \\in \\mathbb{R}$\n",
    "\n",
    "For more information and the axioms assigned to the above operations look [here for vector spaces](https://en.wikipedia.org/wiki/Vector_space#Definition) and [here for inner products](https://en.wikipedia.org/wiki/Inner_product_space#Definition)."
   ]
  },
  {
   "cell_type": "markdown",
   "metadata": {},
   "source": [
    "#### Addition\n",
    "- $(\\mathbf{v}, \\mathbf{u}) \\mapsto \\mathbf{v} + \\mathbf{u}$\n",
    "- Coordinate definition: $(x_1, x_2) + (x_1', x_2') = (x_1 + x_1', x_2 + x_2')$\n",
    "- Returns the combined effect of two vectors\n",
    "- Numpy: `v + u`"
   ]
  },
  {
   "cell_type": "code",
   "execution_count": 5,
   "metadata": {
    "scrolled": false
   },
   "outputs": [],
   "source": [
    "def sum_of_two_vectors(x_1, y_1, x_2, y_2):\n",
    "    # Sum of two vectors\n",
    "    vector_1 = np.array([x_1, y_1])\n",
    "    vector_2 = np.array([x_2, y_2])\n",
    "\n",
    "    sum_vector = vector_1 + vector_2\n",
    "\n",
    "    # Plot vectors\n",
    "    plt.figure(figsize=(6, 6))\n",
    "    plot_2D_vector(vector_1)\n",
    "    plot_2D_vector(vector_2)\n",
    "    sum_v_arr = plot_2D_vector(sum_vector, color='indianred')\n",
    "    plt.legend((sum_v_arr,), ('Sum vector',))\n",
    "    plt.show()"
   ]
  },
  {
   "cell_type": "code",
   "execution_count": 6,
   "metadata": {},
   "outputs": [
    {
     "data": {
      "application/vnd.jupyter.widget-view+json": {
       "model_id": "995f176d0fa047f4a8251614407c2c48",
       "version_major": 2,
       "version_minor": 0
      },
      "text/plain": [
       "interactive(children=(FloatSlider(value=1.0, description='x_1', max=10.0, min=-10.0, step=0.3), FloatSlider(va…"
      ]
     },
     "metadata": {},
     "output_type": "display_data"
    }
   ],
   "source": [
    "interactive(\n",
    "    sum_of_two_vectors, \n",
    "    x_1=widgets.FloatSlider(min=-10,max=10,step=0.3,value=1),\n",
    "    y_1=widgets.FloatSlider(min=-10,max=10,step=0.3,value=2),\n",
    "    x_2=widgets.FloatSlider(min=-10,max=10,step=0.3,value=2),\n",
    "    y_2=widgets.FloatSlider(min=-10,max=10,step=0.3,value=0.5))"
   ]
  },
  {
   "cell_type": "markdown",
   "metadata": {},
   "source": [
    "#### Scalar multiplication\n",
    "- $(a, \\mathbf{v}) \\mapsto a\\ \\mathbf{v}$\n",
    "- Coordinate definition: $a \\ (x_1, x_2) = (a\\ x_1 + a\\ x_2)$\n",
    "- Multiplies the effect of a vector with a real number $a$\n",
    "- Numpy: `a * v`"
   ]
  },
  {
   "cell_type": "code",
   "execution_count": 7,
   "metadata": {},
   "outputs": [],
   "source": [
    "def scalar_multiplication_of_vector(a):\n",
    "    # Scalar multiplication of vector\n",
    "    vector = np.array([1, 0.5])\n",
    "\n",
    "    scalar_product_vector = a * vector\n",
    "\n",
    "    # Plot vectors\n",
    "    plt.figure(figsize=(6, 6))\n",
    "    plot_2D_vector(vector)\n",
    "    sum_v_arr = plot_2D_vector(scalar_product_vector, color='indianred', lw=0.5)\n",
    "    plt.legend((sum_v_arr,), ('Scalar product vector',))\n",
    "    plt.show()"
   ]
  },
  {
   "cell_type": "code",
   "execution_count": 8,
   "metadata": {},
   "outputs": [
    {
     "data": {
      "application/vnd.jupyter.widget-view+json": {
       "model_id": "900c6f04817443e59988ccda54e08ed2",
       "version_major": 2,
       "version_minor": 0
      },
      "text/plain": [
       "interactive(children=(FloatSlider(value=2.0, description='a', max=10.0, min=-10.0, step=0.3), Output()), _dom_…"
      ]
     },
     "metadata": {},
     "output_type": "display_data"
    }
   ],
   "source": [
    "interactive(\n",
    "    scalar_multiplication_of_vector, \n",
    "    a=widgets.FloatSlider(min=-10,max=10,step=0.3,value=2))"
   ]
  },
  {
   "cell_type": "markdown",
   "metadata": {},
   "source": [
    "#### Dot product\n",
    "- $(\\mathbf{v}, \\mathbf{u}) \\mapsto \\mathbf{v} \\cdot \\mathbf{u}$\n",
    "- Coordinate definition: $(x_1, x_2) \\cdot (x_1', x_2') = x_1 x_1' + x_2 x_2'$\n",
    "- Multiplies the effects of the vectors relative to their angle.\n",
    "- Two vectors $\\mathbf{v}, \\mathbf{u}$ are called orthogonal iff $\\mathbf{v} \\cdot \\mathbf{u} = 0$.\n",
    "- Numpy: `np.dot(v, u)`"
   ]
  },
  {
   "cell_type": "code",
   "execution_count": 9,
   "metadata": {},
   "outputs": [],
   "source": [
    "def dot_product_of_two_vectors(x_1, y_1, x_2, y_2):\n",
    "    # Dot product of two vectors\n",
    "    vector_1 = np.array([x_1, y_1])\n",
    "    vector_2 = np.array([x_2, y_2])\n",
    "\n",
    "    dot_product = (vector_1 * vector_2).sum()\n",
    "    # or using numpy's built-in functions:\n",
    "    # dot_product_vector = np.dot(vector_1, vector_2)\n",
    "\n",
    "    # Plot vectors\n",
    "    plt.figure(figsize=(6, 6))\n",
    "    plt.title('Dot product = {}'.format(dot_product), color='indianred')\n",
    "    plot_2D_vector(vector_1)\n",
    "    vec_2 = plot_2D_vector(vector_2)\n",
    "    plt.show()"
   ]
  },
  {
   "cell_type": "code",
   "execution_count": 10,
   "metadata": {},
   "outputs": [
    {
     "data": {
      "application/vnd.jupyter.widget-view+json": {
       "model_id": "1bb72bab943746008a0a69b84a457cf7",
       "version_major": 2,
       "version_minor": 0
      },
      "text/plain": [
       "interactive(children=(FloatSlider(value=1.0, description='x_1', max=10.0, min=-10.0, step=0.3), FloatSlider(va…"
      ]
     },
     "metadata": {},
     "output_type": "display_data"
    }
   ],
   "source": [
    "interactive(\n",
    "    dot_product_of_two_vectors,\n",
    "    x_1=widgets.FloatSlider(min=-10,max=10,step=0.3,value=1),\n",
    "    y_1=widgets.FloatSlider(min=-10,max=10,step=0.3,value=0.5),\n",
    "    x_2=widgets.FloatSlider(min=-10,max=10,step=0.3,value=1),\n",
    "    y_2=widgets.FloatSlider(min=-10,max=10,step=0.3,value=1))"
   ]
  },
  {
   "cell_type": "code",
   "execution_count": 11,
   "metadata": {},
   "outputs": [],
   "source": [
    "def orthogonal_vectors(r1, r2, theta):\n",
    "    # Orthogonal vectors\n",
    "    vector_1 = r1 * np.array([np.cos(theta), np.sin(theta)])\n",
    "    vector_2 = r2 * np.array([np.cos(theta + np.pi / 2), np.sin(theta + np.pi / 2)])\n",
    "#     vector_1 = np.array([0.5, -0.5])\n",
    "#     vector_2 = np.array([1, 1])\n",
    "\n",
    "    dot_product = np.dot(vector_1, vector_2)\n",
    "\n",
    "    # Plot vectors\n",
    "    plt.figure(figsize=(6, 6))\n",
    "    plt.title('Dot product = {}'.format(dot_product), color='indianred')\n",
    "    plot_2D_vector(vector_1)\n",
    "    vec_2 = plot_2D_vector(vector_2)\n",
    "    plt.show()"
   ]
  },
  {
   "cell_type": "code",
   "execution_count": 12,
   "metadata": {},
   "outputs": [
    {
     "data": {
      "application/vnd.jupyter.widget-view+json": {
       "model_id": "5add1f380a62484fa5adc2f79cec7f81",
       "version_major": 2,
       "version_minor": 0
      },
      "text/plain": [
       "interactive(children=(FloatSlider(value=0.5, description='r1', max=10.0, min=-10.0, step=0.3), FloatSlider(val…"
      ]
     },
     "metadata": {},
     "output_type": "display_data"
    }
   ],
   "source": [
    "interactive(\n",
    "    orthogonal_vectors,\n",
    "    r1=widgets.FloatSlider(min=-10,max=10,step=0.3,value=0.5),\n",
    "    r2=widgets.FloatSlider(min=-10,max=10,step=0.3,value=1),\n",
    "    theta=-np.pi / 4)"
   ]
  },
  {
   "cell_type": "markdown",
   "metadata": {},
   "source": [
    "### Orthonormal bases\n",
    "Any basis such that all pairs of vectors are orthogonal and of length 1. The array representations of vectors used above assumed the existence of such a basis $\\{\\mathbf{e_1}, \\mathbf{e_2}\\}$ on the $x$ and $y$ axis. Thanks to operation of addition and scalar multiplication every vectory $v$ can be re-written as $a_1 \\mathbf{e_1} + a_2 \\mathbf{e_2}$ or equivalently $(a_1, a_2)$."
   ]
  },
  {
   "cell_type": "code",
   "execution_count": 13,
   "metadata": {},
   "outputs": [],
   "source": [
    "def projections_of_vector_to_base(x, y):\n",
    "    # The projections of the first vector we saw to e1 and e2\n",
    "    vector_2d = np.array([x, y])\n",
    "    a1 = vector_2d[0]\n",
    "    a2 = vector_2d[1]\n",
    "\n",
    "    # the orthonormal basis\n",
    "    e1 = np.array([1, 0])\n",
    "    e2 = np.array([0, 1])\n",
    "\n",
    "    # Plot vectors\n",
    "    plt.figure(figsize=(6, 6))\n",
    "    plt.xlim((-1, 1))\n",
    "    plt.ylim((-1, 1))\n",
    "    plot_2D_vector(vector_2d, color='indianred')\n",
    "    e1_arr = plot_2D_vector(e1, lw=3)\n",
    "    e2_arr = plot_2D_vector(e2, lw=3)\n",
    "    plot_2D_vector(a1 * e1, color='indianred', lw=0.5)\n",
    "    plot_2D_vector(a2 * e2, color='indianred', lw=0.5)\n",
    "    plt.annotate('e1', xy=(-.3, .8))\n",
    "    plt.annotate('e2', xy=(.8, -.3))\n",
    "    plt.annotate('a1 * e1', xy=(-.6, a2))\n",
    "    plt.annotate('a2 * e2', xy=(a1, -.3))\n",
    "    plt.annotate('v = a1 * e1 + a2 * e2', xy=(a1 + 0.1, a2 + 0.1))\n",
    "    plt.show()"
   ]
  },
  {
   "cell_type": "code",
   "execution_count": 14,
   "metadata": {},
   "outputs": [
    {
     "data": {
      "application/vnd.jupyter.widget-view+json": {
       "model_id": "9f20949cf7fc43bf86eb17855104c990",
       "version_major": 2,
       "version_minor": 0
      },
      "text/plain": [
       "interactive(children=(FloatSlider(value=2.0, description='x', max=10.0, min=-10.0, step=0.3), FloatSlider(valu…"
      ]
     },
     "metadata": {},
     "output_type": "display_data"
    }
   ],
   "source": [
    "interactive(\n",
    "    projections_of_vector_to_base,\n",
    "    x=widgets.FloatSlider(min=-10,max=10,step=0.3,value=2),\n",
    "    y=widgets.FloatSlider(min=-10,max=10,step=0.3,value=3))"
   ]
  }
 ],
 "metadata": {
  "kernelspec": {
   "display_name": "Python 3",
   "language": "python",
   "name": "python3"
  },
  "language_info": {
   "codemirror_mode": {
    "name": "ipython",
    "version": 3
   },
   "file_extension": ".py",
   "mimetype": "text/x-python",
   "name": "python",
   "nbconvert_exporter": "python",
   "pygments_lexer": "ipython3",
   "version": "3.6.5"
  }
 },
 "nbformat": 4,
 "nbformat_minor": 2
}
