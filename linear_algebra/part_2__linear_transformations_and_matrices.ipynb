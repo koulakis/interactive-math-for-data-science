{
 "cells": [
  {
   "cell_type": "markdown",
   "metadata": {},
   "source": [
    "# Linear algebra\n",
    "\n",
    "Author: Marios Koulakis\n",
    "\n",
    "## Part 2: Linear transformations and matrices\n",
    "\n",
    "**Note:** Throughout the text we assume being in finite dimensional spaces over $\\mathbb{R}$ equipped with the Euclidian inner product."
   ]
  },
  {
   "cell_type": "code",
   "execution_count": 58,
   "metadata": {},
   "outputs": [],
   "source": [
    "%run ./utils.py"
   ]
  },
  {
   "cell_type": "code",
   "execution_count": 59,
   "metadata": {},
   "outputs": [],
   "source": [
    "import numpy as np\n",
    "import matplotlib.pyplot as plt\n",
    "\n",
    "from ipywidgets import interactive\n",
    "import ipywidgets as widgets"
   ]
  },
  {
   "cell_type": "markdown",
   "metadata": {},
   "source": [
    "### Linear transformations\n",
    "A linear transformation is a function $f: V \\rightarrow U$ from a linear space $V$ to a linear space $U$ which preserves the linear space structure i.e.:\n",
    "- $f(\\mathbf{v} + \\mathbf{u}) = f(\\mathbf{v}) + f(\\mathbf{u})$\n",
    "- $f(a\\ \\mathbf{v}) = a\\ f(\\mathbf{v})$\n",
    "\n",
    "for every $\\mathbf{v} \\in V$ and $a \\in \\mathbb{R}$."
   ]
  },
  {
   "cell_type": "markdown",
   "metadata": {},
   "source": [
    "### From linear trasformations to matrices\n",
    "We mentioned before that the main tool in linear spaces is the Cartesian coordinates representation of vectors. Actually in every coding example the vectors made sense only through those representations!\n",
    "\n",
    "It makes sense to look for a similar representation for the linear embeddings. To do that we have to study what happens when we map the vectors from an orthonormal base of $V$ to an orthonormal base of $U$.\n",
    "\n",
    "For simplicity let's assume that \n",
    "- $V = U = \\mathbb{R}^2$ \n",
    "- $\\mathbf{e_1} = (1, 0), \\mathbf{e_2} = (0, 1)$\n",
    "- $f: V \\rightarrow U$ is a linear transform\n",
    "\n",
    "Then there are vectors $\\mathbf{u_1}, \\mathbf{u_2} \\in U$ such that \n",
    "- $f(\\mathbf{e_1}) = \\mathbf{u_1}$\n",
    "- $f(\\mathbf{e_2}) = \\mathbf{u_2}$\n",
    "\n",
    "If we expand $\\mathbf{u_1}, \\mathbf{u_2}$ with their basis representations we get \n",
    "- $\\mathbf{u_1} = a_{11} \\mathbf{e_1} + a_{12} \\mathbf{e_2}$ and $\\mathbf{u_1} = a_{21} \\mathbf{e_1} + a_{22} \\mathbf{e_2}$ \n",
    "\n",
    "for some coordinates $a_{11}, a_{12}, a_{21}, a_{22} \\in \\mathbb{R}$.\n",
    "\n",
    "This means that:\n",
    "- $f(\\mathbf{e_1}) = a_{11} \\mathbf{e_1} + a_{12} \\mathbf{e_2}$\n",
    "- $f(\\mathbf{e_2}) = a_{21} \\mathbf{e_1} + a_{22} \\mathbf{e_2}$\n",
    "\n",
    "Provided that any vector can be represented on the basis $\\mathbf{e_1}, \\mathbf{e_2}$ with its coordinates, the information in $a_{11}, a_{12}, a_{21}, a_{22}$ is enough to describe the linear transform $f$. Because those coefficients are assigned per element of the basis, we add another dimension in the notation of the representation and get a matrix:\n",
    "\n",
    "$A = \\begin{bmatrix}\n",
    "    a_{11} & a_{12}\\\\\n",
    "    a_{21} & a_{22}\n",
    "\\end{bmatrix}$\n",
    "\n",
    "Now given any $\\mathbf{v} \\in V$ and its representation $x_1 \\mathbf{e_1} + x_2 \\mathbf{e_2}$, we can compute its image:\n",
    "\n",
    "$\\begin{align*} \n",
    "f(\\mathbf{v}) & = f(x_1 \\mathbf{e_1} + x_2 \\mathbf{e_2})\\\\ \n",
    "& = x_1 f(\\mathbf{e_1}) + x_2 f(\\mathbf{e_2})\\\\\n",
    "& = x_1 a_{11} \\mathbf{e_1} + x_1 a_{12} \\mathbf{e_2} + x_2 a_{21} \\mathbf{e_1} + x_2 a_{22} \\mathbf{e_2}\\\\\n",
    "& = (x_1 a_{11} + x_2 a_{21})\\ \\mathbf{e_1} + (x_1 a_{12} + x_2 a_{22})\\ \\mathbf{e_2}\n",
    "\\end{align*}$\n",
    "\n",
    "If we go on and define the multiplication of a matrix with an array as:\n",
    "\n",
    "$\\begin{bmatrix}\n",
    "    a_{11} & a_{12}\\\\\n",
    "    a_{21} & a_{22}\n",
    "\\end{bmatrix}\n",
    "\\begin{bmatrix}\n",
    "    x_1\\\\\n",
    "    x_2 \n",
    "\\end{bmatrix}\n",
    "=\n",
    "\\begin{bmatrix}\n",
    "    x_1 a_{11} + x_2 a_{21}\\\\\n",
    "    x_1 a_{12} + x_2 a_{22} \n",
    "\\end{bmatrix}$\n",
    "\n",
    "then we finally have a useful way of computing $f$:\n",
    "\n",
    "$f: (x_1, x_2) \\mapsto \n",
    "\\begin{bmatrix}\n",
    "    a_{11} & a_{12}\\\\\n",
    "    a_{21} & a_{22}\n",
    "\\end{bmatrix}\n",
    "\\begin{bmatrix}\n",
    "    x_1\\\\\n",
    "    x_2\n",
    "\\end{bmatrix}$\n",
    "\n",
    "or, in short,\n",
    "\n",
    "$f: \\mathbf{v} \\mapsto A \\mathbf{v}$\n",
    "\n",
    "In numpy: `np.matmul(A, v)`"
   ]
  },
  {
   "cell_type": "markdown",
   "metadata": {},
   "source": [
    "### Some common linear transformations\n",
    "We first focus on linear transformations $f: \\mathbb{R} \\mapsto \\mathbb{R}$ which preserve dimensionality. To illustrate the transforms, we fix three vectors and the triangle they form and observe how those objects look like after applying the transformation.  "
   ]
  },
  {
   "cell_type": "markdown",
   "metadata": {},
   "source": [
    "#### Fixed vectors"
   ]
  },
  {
   "cell_type": "code",
   "execution_count": 60,
   "metadata": {},
   "outputs": [
    {
     "data": {
      "image/png": "[encoded data removed]",
      "text/plain": [
       "<Figure size 432x432 with 1 Axes>"
      ]
     },
     "metadata": {},
     "output_type": "display_data"
    }
   ],
   "source": [
    "vectors = [np.array([1, 3]), np.array([2, 1]), np.array([2, 2])]\n",
    "colors = ['indianred', 'darkorchid', 'lightgreen']\n",
    "\n",
    "plt.figure(figsize=(6, 6))\n",
    "plot_vectors_and_polygon(vectors, colors)\n",
    "plt.show()"
   ]
  },
  {
   "cell_type": "markdown",
   "metadata": {},
   "source": [
    "#### Scaling by constant $a$\n",
    "$\\begin{bmatrix}\n",
    "    a & 0\\\\\n",
    "    0 & a\n",
    "\\end{bmatrix}$\n",
    "\n",
    "where $a \\in \\mathbb{R}$."
   ]
  },
  {
   "cell_type": "code",
   "execution_count": 61,
   "metadata": {
    "scrolled": false
   },
   "outputs": [],
   "source": [
    "def scale_by_constant(a):\n",
    "    scaling_matrix = np.array([\n",
    "        [a, 0],\n",
    "        [0, a]\n",
    "    ])\n",
    "\n",
    "    transformed_vectors = [np.matmul(scaling_matrix, vector) for vector in vectors]\n",
    "\n",
    "    plt.figure(figsize=(6, 6))\n",
    "    plot_vectors_and_polygon(vectors, colors)\n",
    "    plt.annotate('original', xy=vectors[2] + [.1, .1])\n",
    "\n",
    "    plot_vectors_and_polygon(transformed_vectors, colors)\n",
    "    plt.annotate('scaled', xy=transformed_vectors[2] + [.1, .1])\n",
    "\n",
    "    plt.show()"
   ]
  },
  {
   "cell_type": "code",
   "execution_count": 62,
   "metadata": {},
   "outputs": [
    {
     "data": {
      "application/vnd.jupyter.widget-view+json": {
       "model_id": "6e638d41f08348978716d7a392334fd8",
       "version_major": 2,
       "version_minor": 0
      },
      "text/plain": [
       "interactive(children=(FloatSlider(value=2.0, description='a', max=10.0, min=-10.0, step=0.3), Output()), _dom_…"
      ]
     },
     "metadata": {},
     "output_type": "display_data"
    }
   ],
   "source": [
    "interactive(\n",
    "    scale_by_constant,\n",
    "    a=widgets.FloatSlider(min=-10, max=10, step=0.3, value=2))"
   ]
  },
  {
   "cell_type": "markdown",
   "metadata": {},
   "source": [
    "#### Scaling only along one axis\n",
    "$\\begin{bmatrix}\n",
    "    1 & 0\\\\\n",
    "    0 & a\n",
    "\\end{bmatrix}$\n",
    "\n",
    "where $a \\in \\mathbb{R}$."
   ]
  },
  {
   "cell_type": "code",
   "execution_count": 63,
   "metadata": {},
   "outputs": [],
   "source": [
    "def scale_along_axis(a):\n",
    "    scaling_matrix = np.array([\n",
    "        [1, 0],\n",
    "        [0, a]\n",
    "    ])\n",
    "\n",
    "    transformed_vectors = [np.matmul(scaling_matrix, vector) for vector in vectors]\n",
    "\n",
    "    plt.figure(figsize=(6, 6))\n",
    "    plot_vectors_and_polygon(vectors, colors)\n",
    "    plt.annotate('original', xy=vectors[2] + [.1, .1])\n",
    "\n",
    "    plot_vectors_and_polygon(transformed_vectors, colors)\n",
    "    plt.annotate('scaled', xy=transformed_vectors[2] + [.1, .1])\n",
    "\n",
    "    plt.show()"
   ]
  },
  {
   "cell_type": "code",
   "execution_count": 64,
   "metadata": {},
   "outputs": [
    {
     "data": {
      "application/vnd.jupyter.widget-view+json": {
       "model_id": "30c3e3e7b6b64848b35e3766df92f335",
       "version_major": 2,
       "version_minor": 0
      },
      "text/plain": [
       "interactive(children=(FloatSlider(value=3.0, description='a', max=10.0, min=-10.0, step=0.3), Output()), _dom_…"
      ]
     },
     "metadata": {},
     "output_type": "display_data"
    }
   ],
   "source": [
    "interactive(\n",
    "    scale_along_axis,\n",
    "    a=widgets.FloatSlider(min=-10, max=10, step=0.3, value=3))"
   ]
  },
  {
   "cell_type": "markdown",
   "metadata": {},
   "source": [
    "#### Rotation counter-clockwise by angle\n",
    "$\\begin{bmatrix}\n",
    "    \\cos\\theta & -\\sin\\theta\\\\\n",
    "    \\sin\\theta & \\cos\\theta\n",
    "\\end{bmatrix}$\n",
    "\n",
    "where $\\theta \\in [0, 2\\pi)$."
   ]
  },
  {
   "cell_type": "code",
   "execution_count": 65,
   "metadata": {
    "scrolled": false
   },
   "outputs": [],
   "source": [
    "def rotation(theta):\n",
    "    rotation_matrix = np.array([\n",
    "        [np.cos(theta), - np.sin(theta)],\n",
    "        [np.sin(theta), np.cos(theta)]\n",
    "    ])\n",
    "\n",
    "    transformed_vectors = [np.matmul(rotation_matrix, vector) for vector in vectors]\n",
    "\n",
    "    plt.figure(figsize=(6, 6))\n",
    "    plot_vectors_and_polygon(vectors, colors)\n",
    "    plt.annotate('original', xy=vectors[2] + [.1, .1])\n",
    "\n",
    "    plot_vectors_and_polygon(transformed_vectors, colors)\n",
    "    plt.annotate('rotated by: {:.2f} pi'.format(theta / np.pi), xy=transformed_vectors[2] + [-.3, .2])\n",
    "\n",
    "    plt.show()"
   ]
  },
  {
   "cell_type": "code",
   "execution_count": 66,
   "metadata": {},
   "outputs": [
    {
     "data": {
      "application/vnd.jupyter.widget-view+json": {
       "model_id": "5e615258c153417899464326db1fcd9d",
       "version_major": 2,
       "version_minor": 0
      },
      "text/plain": [
       "interactive(children=(FloatSlider(value=1.5707963267948966, description='theta', max=3.141592653589793, min=-3…"
      ]
     },
     "metadata": {},
     "output_type": "display_data"
    }
   ],
   "source": [
    "interactive(\n",
    "    rotation,\n",
    "    theta=widgets.FloatSlider(min=-np.pi,max=np.pi, step=np.pi/100, value=np.pi/2))"
   ]
  },
  {
   "cell_type": "markdown",
   "metadata": {},
   "source": [
    "#### Reflection agains the horizontal axis\n",
    "$\\begin{bmatrix}\n",
    "    1 & 0\\\\\n",
    "    0 & -1\n",
    "\\end{bmatrix}$"
   ]
  },
  {
   "cell_type": "code",
   "execution_count": 67,
   "metadata": {},
   "outputs": [
    {
     "data": {
      "image/png": "[encoded data removed]",
      "text/plain": [
       "<Figure size 432x432 with 1 Axes>"
      ]
     },
     "metadata": {},
     "output_type": "display_data"
    }
   ],
   "source": [
    "reflection_matrix = np.array([\n",
    "    [1, 0],\n",
    "    [0, -1]\n",
    "])\n",
    "\n",
    "transformed_vectors = [np.matmul(reflection_matrix, vector) for vector in vectors]\n",
    "\n",
    "plt.figure(figsize=(6, 6))\n",
    "plot_vectors_and_polygon(vectors, colors)\n",
    "plt.annotate('original', xy=vectors[2] + [-.3, .5])\n",
    "\n",
    "plot_vectors_and_polygon(transformed_vectors, colors)\n",
    "plt.annotate('reflected', xy=transformed_vectors[2] + [.05, .2])\n",
    "\n",
    "plt.show()"
   ]
  },
  {
   "cell_type": "markdown",
   "metadata": {},
   "source": [
    "#### Random transformations\n",
    "Transformations can be more complex than the ones described above. The complexity comes from the relative change of direction between the basis vectors. The examples below are transformations more invasive than the ones above."
   ]
  },
  {
   "cell_type": "code",
   "execution_count": 68,
   "metadata": {},
   "outputs": [
    {
     "data": {
      "image/png": "[encoded data removed]",
      "text/plain": [
       "<Figure size 432x432 with 1 Axes>"
      ]
     },
     "metadata": {},
     "output_type": "display_data"
    }
   ],
   "source": [
    "any_matrix_1 = np.array([\n",
    "    [2.5, 0.4],\n",
    "    [1.3, -0.9]\n",
    "])\n",
    "\n",
    "any_matrix_2 = np.array([\n",
    "    [-1.2, 1.2],\n",
    "    [1.3, 2.9]\n",
    "])\n",
    "\n",
    "transformed_vectors_1 = [np.matmul(any_matrix_1, vector) for vector in vectors]\n",
    "transformed_vectors_2 = [np.matmul(any_matrix_2, vector) for vector in vectors]\n",
    "\n",
    "plt.figure(figsize=(6, 6))\n",
    "plot_vectors_and_polygon(vectors, colors)\n",
    "plt.annotate('original', xy=vectors[2] + [-.3, .5])\n",
    "\n",
    "plot_vectors_and_polygon(transformed_vectors_1, colors)\n",
    "plt.annotate('transformed 1', xy=transformed_vectors_1[2] + [.05, .2])\n",
    "\n",
    "plot_vectors_and_polygon(transformed_vectors_2, colors)\n",
    "plt.annotate('transformed 2', xy=transformed_vectors_2[2] + [-1.3, 1.2])\n",
    "\n",
    "plt.show()"
   ]
  },
  {
   "cell_type": "code",
   "execution_count": 69,
   "metadata": {},
   "outputs": [],
   "source": [
    "def random_transform(a11, a12, a21, a22):\n",
    "    any_matrix_1 = np.array([\n",
    "        [a11, a12],\n",
    "        [a21, a22]\n",
    "    ])\n",
    "\n",
    "    transformed_vectors = [np.matmul(any_matrix_1, vector) for vector in vectors]\n",
    "\n",
    "    plt.figure(figsize=(6, 6))\n",
    "    plot_vectors_and_polygon(vectors, colors)\n",
    "    plt.annotate('original', xy=vectors[2] + [-.3, .5])\n",
    "\n",
    "    plot_vectors_and_polygon(transformed_vectors, colors)\n",
    "    plt.annotate('transformed', xy=transformed_vectors[2] + [.05, .2])\n",
    "\n",
    "    plt.show()"
   ]
  },
  {
   "cell_type": "code",
   "execution_count": 70,
   "metadata": {},
   "outputs": [
    {
     "data": {
      "application/vnd.jupyter.widget-view+json": {
       "model_id": "726f905bc29a4e3091720029334711bb",
       "version_major": 2,
       "version_minor": 0
      },
      "text/plain": [
       "interactive(children=(FloatSlider(value=2.5, description='a11', max=10.0, min=-10.0, step=0.3), FloatSlider(va…"
      ]
     },
     "metadata": {},
     "output_type": "display_data"
    }
   ],
   "source": [
    "interactive(\n",
    "    random_transform,\n",
    "    a11=widgets.FloatSlider(min=-10,max=10,step=0.3,value=2.5),\n",
    "    a12=widgets.FloatSlider(min=-10,max=10,step=0.3,value=0.4),\n",
    "    a21=widgets.FloatSlider(min=-10,max=10,step=0.3,value=1.4),\n",
    "    a22=widgets.FloatSlider(min=-10,max=10,step=0.3,value=-0.9))"
   ]
  },
  {
   "cell_type": "markdown",
   "metadata": {},
   "source": [
    "### Linear transformations compressing dimensionality\n",
    "Up to now we considered transforms which scaled and rotated our vectors but always preserved the 2 dimensions of the vector space. This is not always the case."
   ]
  },
  {
   "cell_type": "markdown",
   "metadata": {},
   "source": [
    "#### From 2 dimensions to 1: Projection to the x-axis\n",
    "$\\begin{bmatrix}\n",
    "    0 & 0\\\\\n",
    "    0 & 1\n",
    "\\end{bmatrix}$"
   ]
  },
  {
   "cell_type": "code",
   "execution_count": 71,
   "metadata": {},
   "outputs": [
    {
     "data": {
      "image/png": "[encoded data removed]",
      "text/plain": [
       "<Figure size 432x432 with 1 Axes>"
      ]
     },
     "metadata": {},
     "output_type": "display_data"
    }
   ],
   "source": [
    "\n",
    "projection_x_matrix = np.array([\n",
    "    [0, 0],\n",
    "    [0, 1]\n",
    "])\n",
    "\n",
    "transformed_vectors = [np.matmul(projection_x_matrix, vector) for vector in vectors]\n",
    "\n",
    "plt.figure(figsize=(6, 6))\n",
    "plt.xlim((-1.5, 3))\n",
    "plot_vectors_and_polygon(vectors, colors)\n",
    "plt.annotate('original', xy=vectors[2] + [-.3, .5])\n",
    "\n",
    "plot_vectors_and_polygon(transformed_vectors, colors)\n",
    "plt.annotate('projected to y', xy=transformed_vectors[2] + [-1.2, .2])\n",
    "\n",
    "plt.show()"
   ]
  },
  {
   "cell_type": "markdown",
   "metadata": {},
   "source": [
    "#### From 2 dimensions to 1: Projection to the y-axis\n",
    "$\\begin{bmatrix}\n",
    "    1 & 0\\\\\n",
    "    0 & 0\n",
    "\\end{bmatrix}$"
   ]
  },
  {
   "cell_type": "code",
   "execution_count": 72,
   "metadata": {},
   "outputs": [],
   "source": [
    "def project_to_y_axis(a1, a2, a3): \n",
    "    projection_y_matrix = np.array([\n",
    "        [1, 0],\n",
    "        [0, 0]\n",
    "    ])\n",
    "    \n",
    "    original_vectors = (np.array([a1, a2, a3]) * np.array(vectors).T).T\n",
    "    \n",
    "    transformed_vectors = [np.matmul(projection_y_matrix, vector) for vector in original_vectors]\n",
    "\n",
    "    plt.figure(figsize=(6, 6))\n",
    "    plt.ylim((-0.5, 3.5))\n",
    "    plot_vectors_and_polygon(original_vectors, colors)\n",
    "    plt.annotate('original', xy=original_vectors[2] + [-.3, .5])\n",
    "\n",
    "    plot_vectors_and_polygon(transformed_vectors, colors)\n",
    "    plt.annotate('projected to x', xy=transformed_vectors[2] + [-0.9, .2])\n",
    "\n",
    "    plt.show()"
   ]
  },
  {
   "cell_type": "code",
   "execution_count": 73,
   "metadata": {
    "scrolled": false
   },
   "outputs": [
    {
     "data": {
      "application/vnd.jupyter.widget-view+json": {
       "model_id": "625006c2d9bb4029b63beed55c5892ab",
       "version_major": 2,
       "version_minor": 0
      },
      "text/plain": [
       "interactive(children=(FloatSlider(value=1.0, description='a1', max=10.0, min=-10.0, step=0.3), FloatSlider(val…"
      ]
     },
     "metadata": {},
     "output_type": "display_data"
    }
   ],
   "source": [
    "interactive(\n",
    "    project_to_y_axis,\n",
    "    a1=widgets.FloatSlider(min=-10,max=10,step=0.3,value=1),\n",
    "    a2=widgets.FloatSlider(min=-10,max=10,step=0.3,value=1),\n",
    "    a3=widgets.FloatSlider(min=-10,max=10,step=0.3,value=1))"
   ]
  },
  {
   "cell_type": "markdown",
   "metadata": {},
   "source": [
    "#### From 3 dimensions to 2: Projection to the xy-plane\n",
    "$\\begin{bmatrix}\n",
    "    1 & 0 & 0\\\\\n",
    "    0 & 1 & 0\\\\\n",
    "    0 & 0 & 0\n",
    "\\end{bmatrix}$"
   ]
  },
  {
   "cell_type": "code",
   "execution_count": 74,
   "metadata": {},
   "outputs": [],
   "source": [
    "colors_3D = ['indianred', 'seagreen', 'darkorchid', 'gold']\n",
    "vectors_3D = np.array([[0, 1, 1], [2, 0, 1], [3, 3, 4], [1, 0.2, 2]])\n",
    "fontsize_3D = 16\n",
    "\n",
    "projection_xy = np.array([\n",
    "    [1, 0, 0],\n",
    "    [0, 1, 0],\n",
    "    [0, 0, 0]\n",
    "])\n",
    "\n",
    "def project_to_xy_plane(a1, a2, a3, a4):\n",
    "    fig = plt.figure(figsize=(12, 12))\n",
    "    ax = fig.gca(projection='3d')\n",
    "\n",
    "    original_vectors = (np.array([a1, a2, a3, a4]) * np.array(vectors_3D).T).T\n",
    "    \n",
    "    transformed_vectors_3D = [np.matmul(projection_xy, vector) for vector in original_vectors] \n",
    "\n",
    "    plot_3D_vectors_and_polyhedron(ax, original_vectors, colors_3D)\n",
    "    \n",
    "    ax.text(*(original_vectors[2] + 0.1), 'original', fontsize=fontsize_3D)\n",
    "\n",
    "    plot_3D_vectors_and_polyhedron(ax, transformed_vectors_3D, colors_3D)\n",
    "    ax.text(*(transformed_vectors_3D[2] + 0.1), 'projected to xy', fontsize=fontsize_3D)\n",
    "\n",
    "    plt.show()"
   ]
  },
  {
   "cell_type": "code",
   "execution_count": 75,
   "metadata": {},
   "outputs": [
    {
     "data": {
      "application/vnd.jupyter.widget-view+json": {
       "model_id": "58afb05260144b5b81f1393211194a02",
       "version_major": 2,
       "version_minor": 0
      },
      "text/plain": [
       "interactive(children=(FloatSlider(value=1.0, description='a1', max=10.0, min=-10.0, step=0.3), FloatSlider(val…"
      ]
     },
     "metadata": {},
     "output_type": "display_data"
    }
   ],
   "source": [
    "interactive(\n",
    "    project_to_xy_plane,\n",
    "    a1=widgets.FloatSlider(min=-10,max=10,step=0.3,value=1),\n",
    "    a2=widgets.FloatSlider(min=-10,max=10,step=0.3,value=1),\n",
    "    a3=widgets.FloatSlider(min=-10,max=10,step=0.3,value=1),\n",
    "    a4=widgets.FloatSlider(min=-10,max=10,step=0.3,value=1))"
   ]
  },
  {
   "cell_type": "markdown",
   "metadata": {},
   "source": [
    "#### From 3 dimensions to 1: Projection to the diagonal line\n",
    "$\\begin{bmatrix}\n",
    "    1 & 0 & 0\\\\\n",
    "    1 & 0 & 0\\\\\n",
    "    0 & 0 & 0\n",
    "\\end{bmatrix}$"
   ]
  },
  {
   "cell_type": "code",
   "execution_count": 76,
   "metadata": {},
   "outputs": [],
   "source": [
    "projection_xy = np.array([\n",
    "    [1, 0, 0],\n",
    "    [1, 0, 0],\n",
    "    [0, 0, 0]\n",
    "])\n",
    "\n",
    "def project_to_the_diagonal(a1, a2, a3, a4):\n",
    "    fig = plt.figure(figsize=(12, 12))\n",
    "    ax = fig.gca(projection='3d')\n",
    "\n",
    "    original_vectors = (np.array([a1, a2, a3, a4]) * np.array(vectors_3D).T).T\n",
    "\n",
    "    transformed_vectors_3D = [np.matmul(projection_xy, vector) for vector in original_vectors] \n",
    "\n",
    "    plot_3D_vectors_and_polyhedron(ax, original_vectors, colors_3D)\n",
    "    \n",
    "    ax.text(*(original_vectors[2] + 0.1), 'original', fontsize=fontsize_3D)\n",
    "\n",
    "    plot_3D_vectors_and_polyhedron(ax, transformed_vectors_3D, colors_3D)\n",
    "    ax.text(\n",
    "        *(transformed_vectors_3D[2] + 0.1), \n",
    "        'projected to the xy\\n       diagonal', \n",
    "        fontsize=fontsize_3D)\n",
    "\n",
    "    plt.show()"
   ]
  },
  {
   "cell_type": "code",
   "execution_count": 77,
   "metadata": {},
   "outputs": [
    {
     "data": {
      "application/vnd.jupyter.widget-view+json": {
       "model_id": "a1f185098bac47c582f05241c01c0c98",
       "version_major": 2,
       "version_minor": 0
      },
      "text/plain": [
       "interactive(children=(FloatSlider(value=1.0, description='a1', max=10.0, min=-10.0, step=0.3), FloatSlider(val…"
      ]
     },
     "metadata": {},
     "output_type": "display_data"
    }
   ],
   "source": [
    "interactive(\n",
    "    project_to_the_diagonal,\n",
    "    a1=widgets.FloatSlider(min=-10,max=10,step=0.3,value=1),\n",
    "    a2=widgets.FloatSlider(min=-10,max=10,step=0.3,value=1),\n",
    "    a3=widgets.FloatSlider(min=-10,max=10,step=0.3,value=1),\n",
    "    a4=widgets.FloatSlider(min=-10,max=10,step=0.3,value=1))"
   ]
  },
  {
   "cell_type": "markdown",
   "metadata": {},
   "source": [
    "### Linear transformations embedding into higher dimensionality\n",
    "Up to now we have only seen endomorphisms of linear spaces, i.e. trasformations from one space to itself. Though they capture a large portion of useful transformations, one can transform any linear space to another one. In the case of finite dimensional spaces, the transformation $f: V \\mapsto U$ can be represented by a matrix with $n$ rows and $m$ columns, where $n$ is the dimension of $V$ and $m$ the dimension of $U$.\n",
    "\n",
    "Linear transformations which embed a vector space to another vector space with higher dimensionality provide a useful way of defining lines, planes and hyperplanes ($n$-dimensional plane in an $m$ dimensional space, where $m > n$)."
   ]
  },
  {
   "cell_type": "markdown",
   "metadata": {},
   "source": [
    "#### Line in the plane\n",
    "$\\begin{bmatrix}\n",
    "    1\\\\\n",
    "    0.5\n",
    "\\end{bmatrix}$\n",
    "\n",
    "In this case we have a transform $f: \\mathbb{R} \\rightarrow \\mathbb{R}^2$ where $f: x \\mapsto [x, 0.5 x]$."
   ]
  },
  {
   "cell_type": "code",
   "execution_count": 78,
   "metadata": {},
   "outputs": [],
   "source": [
    "def line_in_the_plane(x, y):\n",
    "    # we embed several 1D vectors to generate the line\n",
    "    vectors_1D = [np.array([i]) for i in [-2, -1, 1, 2]]\n",
    "\n",
    "    line = np.array([\n",
    "        [x], \n",
    "        [y]\n",
    "    ])\n",
    "\n",
    "    transformed_vectors = [np.matmul(line, vector) for vector in vectors_1D]\n",
    "\n",
    "    # Plot vectors on line\n",
    "    plt.figure(figsize=(6, 6))\n",
    "    plot_vectors_and_polygon(transformed_vectors)\n",
    "\n",
    "    plt.show()"
   ]
  },
  {
   "cell_type": "code",
   "execution_count": 79,
   "metadata": {},
   "outputs": [
    {
     "data": {
      "application/vnd.jupyter.widget-view+json": {
       "model_id": "6d2128cda2bc42829668c1d9c6527b32",
       "version_major": 2,
       "version_minor": 0
      },
      "text/plain": [
       "interactive(children=(FloatSlider(value=1.0, description='x', max=10.0, min=-10.0, step=0.3), FloatSlider(valu…"
      ]
     },
     "metadata": {},
     "output_type": "display_data"
    }
   ],
   "source": [
    "interactive(\n",
    "    line_in_the_plane,\n",
    "    x=widgets.FloatSlider(min=-10,max=10,step=0.3,value=1),\n",
    "    y=widgets.FloatSlider(min=-10,max=10,step=0.3,value=0.5))"
   ]
  },
  {
   "cell_type": "markdown",
   "metadata": {},
   "source": [
    "#### Line in the 3D space\n",
    "$\\begin{bmatrix}\n",
    "    1\\\\\n",
    "    0.5\\\\\n",
    "    2\n",
    "\\end{bmatrix}$\n",
    "\n",
    "In this case we have a transform $f: \\mathbb{R} \\rightarrow \\mathbb{R}^3$ where $f: x \\mapsto [x, 0.5 x, 2 x]$."
   ]
  },
  {
   "cell_type": "code",
   "execution_count": 80,
   "metadata": {},
   "outputs": [],
   "source": [
    "def line_in_3D_space(x, y, z):\n",
    "    # we embed several 1D vectors to generate the line\n",
    "    vectors_1D = [np.array([i]) for i in [1, 2, 3, 4]]\n",
    "\n",
    "    line = np.array([\n",
    "        [x], \n",
    "        [y],\n",
    "        [z]\n",
    "    ])\n",
    "\n",
    "    transformed_vectors = [np.matmul(line, vector) for vector in vectors_1D]\n",
    "\n",
    "    fig = plt.figure(figsize=(12, 12))\n",
    "    ax = fig.gca(projection='3d')\n",
    "\n",
    "    plot_3D_vectors_and_polyhedron(ax, transformed_vectors)\n",
    "\n",
    "    ax.text(\n",
    "        *(transformed_vectors[3] + 0.1), \n",
    "        'line in the 3D space', \n",
    "        fontsize=fontsize_3D)\n",
    "    plt.show()"
   ]
  },
  {
   "cell_type": "code",
   "execution_count": 81,
   "metadata": {},
   "outputs": [
    {
     "data": {
      "application/vnd.jupyter.widget-view+json": {
       "model_id": "d48e54032d13478685f737473842779f",
       "version_major": 2,
       "version_minor": 0
      },
      "text/plain": [
       "interactive(children=(FloatSlider(value=1.0, description='x', max=10.0, min=-10.0, step=0.3), FloatSlider(valu…"
      ]
     },
     "metadata": {},
     "output_type": "display_data"
    }
   ],
   "source": [
    "interactive(\n",
    "    line_in_3D_space,\n",
    "    x=widgets.FloatSlider(min=-10,max=10,step=0.3,value=1),\n",
    "    y=widgets.FloatSlider(min=-10,max=10,step=0.3,value=0.5),\n",
    "    z=widgets.FloatSlider(min=-10,max=10,step=0.3,value=2))"
   ]
  },
  {
   "cell_type": "markdown",
   "metadata": {},
   "source": [
    "#### Plane in the 3D space\n",
    "$\\begin{bmatrix}\n",
    "    1 & 2\\\\\n",
    "    0.5 & 3\\\\\n",
    "    2 & 1\n",
    "\\end{bmatrix}$\n",
    "\n",
    "In this case we have a transform $f: \\mathbb{R}^2 \\rightarrow \\mathbb{R}^3$ where $f: [x, y] \\mapsto [x + 2 y, 0.5 x + 3 y, 2 x + y]$."
   ]
  },
  {
   "cell_type": "code",
   "execution_count": 82,
   "metadata": {},
   "outputs": [],
   "source": [
    "def plane_in_the_3D_space(x1, y1, z1, x2, y2, z2):\n",
    "    fig = plt.figure(figsize=(12, 12))\n",
    "    ax = fig.gca(projection='3d')\n",
    "\n",
    "    vectors_2D = [np.array([i, j]) for i in [0.01, 1, 2, 3] for j in [0.01, 1, 2, 3] ]\n",
    "\n",
    "    plane = np.array([\n",
    "        [x1, x2],\n",
    "        [y1, y2],\n",
    "        [z1, z2]\n",
    "    ])\n",
    "\n",
    "    transformed_vectors_3D = [np.matmul(plane, vector) for vector in vectors_2D] \n",
    "\n",
    "    plot_3D_vectors_and_polyhedron(ax, transformed_vectors_3D)\n",
    "    ax.text(\n",
    "        *(transformed_vectors_3D[15] + 0.1), \n",
    "        'plane in 3D\\n     space', \n",
    "        fontsize=fontsize_3D)\n",
    "\n",
    "    plt.show()"
   ]
  },
  {
   "cell_type": "code",
   "execution_count": 83,
   "metadata": {},
   "outputs": [
    {
     "data": {
      "application/vnd.jupyter.widget-view+json": {
       "model_id": "40468827ea40457580d29f382ab8ed7c",
       "version_major": 2,
       "version_minor": 0
      },
      "text/plain": [
       "interactive(children=(FloatSlider(value=1.0, description='x1', max=10.0, min=-10.0, step=0.3), FloatSlider(val…"
      ]
     },
     "metadata": {},
     "output_type": "display_data"
    }
   ],
   "source": [
    "interactive(\n",
    "    plane_in_the_3D_space,\n",
    "    x1=widgets.FloatSlider(min=-10,max=10,step=0.3,value=1),\n",
    "    y1=widgets.FloatSlider(min=-10,max=10,step=0.3,value=0.5),\n",
    "    z1=widgets.FloatSlider(min=-10,max=10,step=0.3,value=2),\n",
    "    x2=widgets.FloatSlider(min=-10,max=10,step=0.3,value=2),\n",
    "    y2=widgets.FloatSlider(min=-10,max=10,step=0.3,value=3),\n",
    "    z2=widgets.FloatSlider(min=-10,max=10,step=0.3,value=1))"
   ]
  }
 ],
 "metadata": {
  "kernelspec": {
   "display_name": "Python 3",
   "language": "python",
   "name": "python3"
  },
  "language_info": {
   "codemirror_mode": {
    "name": "ipython",
    "version": 3
   },
   "file_extension": ".py",
   "mimetype": "text/x-python",
   "name": "python",
   "nbconvert_exporter": "python",
   "pygments_lexer": "ipython3",
   "version": "3.6.5"
  }
 },
 "nbformat": 4,
 "nbformat_minor": 2
}
